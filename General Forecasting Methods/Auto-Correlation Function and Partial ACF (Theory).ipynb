{
 "cells": [
  {
   "cell_type": "markdown",
   "metadata": {},
   "source": [
    "### 2 Very Usefull Plot Types:\n",
    "    - ACF: AutoCorrelation Function Plot\n",
    "    - PACF: Partial AutoCorrelation Function Plot\n",
    "To understand these plots we first need to understand correlation"
   ]
  },
  {
   "cell_type": "markdown",
   "metadata": {},
   "source": [
    "### Correlation\n",
    "A measure of the strength of the linear relationship between two variables"
   ]
  },
  {
   "cell_type": "markdown",
   "metadata": {},
   "source": [
    "### AutoCorrelation\n",
    "\n",
    "The correlation of the series with itself, lagged by x time units\n",
    "\n",
    "- In a Correlogram the y-axis is the correlation and the x-axis is the number of units of lag"
   ]
  },
  {
   "cell_type": "markdown",
   "metadata": {},
   "source": [
    "- Imagine we had some sales data. We can compare the standard sales data against the sales data shifted by 1 time step\n",
    "- This answers the question \"How correlated are today's sales to yesterday's sales?\"\n",
    "- You can have either gradual declines or sharp drop-offs in correlation"
   ]
  },
  {
   "cell_type": "markdown",
   "metadata": {},
   "source": [
    "### Partial AutoCorrelation\n",
    "\n",
    "- Essentially plot out the relationship between the previous day's residuals versus the real values of the current day\n",
    "- In general we expect the partial autocorrelation to drop off quite quickly"
   ]
  },
  {
   "cell_type": "markdown",
   "metadata": {},
   "source": [
    "### ARIMA\n",
    "\n",
    "- AC and PAC can help choose the order parameters for ARIMA based models\n",
    "- Later on we will see that it is usually much easier to perform a grid search of parameter values rather than attempt to read these plots directly"
   ]
  },
  {
   "cell_type": "code",
   "execution_count": null,
   "metadata": {},
   "outputs": [],
   "source": []
  }
 ],
 "metadata": {
  "kernelspec": {
   "display_name": "Python 3",
   "language": "python",
   "name": "python3"
  },
  "language_info": {
   "codemirror_mode": {
    "name": "ipython",
    "version": 3
   },
   "file_extension": ".py",
   "mimetype": "text/x-python",
   "name": "python",
   "nbconvert_exporter": "python",
   "pygments_lexer": "ipython3",
   "version": "3.7.2"
  }
 },
 "nbformat": 4,
 "nbformat_minor": 2
}
