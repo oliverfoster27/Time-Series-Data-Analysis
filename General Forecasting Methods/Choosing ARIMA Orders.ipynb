{
 "cells": [
  {
   "cell_type": "markdown",
   "metadata": {},
   "source": [
    "### ARIMA"
   ]
  },
  {
   "cell_type": "markdown",
   "metadata": {},
   "source": [
    "##### 3 Components:\n",
    "- AR (AutoRegression)\n",
    "    - The forecast is a linear combination of it's previous terms\n",
    "- I (Integrated)\n",
    "    - Indicates that the data values have been replaced with the difference between their values and the previous values\n",
    "    - How many times we have to difference the data so AR and MA can work together\n",
    "- MA (Moving Average)\n",
    "    - The regression error is a linear combination of error terms whose values occurred contemporaneously and at various times in the past\n",
    "    - A model that uses the dependency between an observation and a residual error from a moving average model applied to lagged observations\n",
    "    - Revall that when we plotted out a moving average with pandas it would 'smooth' out the noise from the time series"
   ]
  },
  {
   "cell_type": "markdown",
   "metadata": {},
   "source": [
    "- Non-seasonal ARIMA models are generally denoted ARIMA (p, d, q) where these parameters are non-negative integers\n",
    "- p is the order (number of lags) of the autoregressive model, d is the degree of differencing (the number of times the data have had past values subtracted), and q is the order of the moving-average model"
   ]
  },
  {
   "cell_type": "markdown",
   "metadata": {},
   "source": [
    "# Choosing ARIMA Orders"
   ]
  },
  {
   "cell_type": "markdown",
   "metadata": {},
   "source": [
    "- Our main priority here is to try to figure out the orders for the AR and MA components, and if we need to difference our data (the I component)\n",
    "- Depending on the dataset, it is quite common to only require AR or MA components (you may not need both)\n",
    "- If the autocorrelation plot shows positive autocorrelation at the first lag (lag-1), then it suggests to use the AR terms in relation to the lag\n",
    "- If the autocorrelation plot shows negative autocorrelation at the first lag, then it suggests using MA terms\n",
    "- This will allow you to decide what actual values of p, d, and q to provide your ARIMA model"
   ]
  },
  {
   "cell_type": "markdown",
   "metadata": {},
   "source": [
    "    p: The number of lag observations included in the model\n",
    "    d: the number of times that the raw observations are differenced\n",
    "    q: the size of the moving average window, also called the order of moving average"
   ]
  },
  {
   "cell_type": "markdown",
   "metadata": {},
   "source": [
    "### Autocorrelation\n",
    "- Typically a sharp drop in autocorrelation after lag \"k\" suggests that AR-k model should be used\n",
    "- If there is a gradual decline, it suggests an MA model"
   ]
  },
  {
   "cell_type": "markdown",
   "metadata": {},
   "source": [
    "- Identification of an AR model is often best done with the PACF\n",
    "- Identification of an MA model is often best done with the ACF rather than the PACF\n",
    "- View the notebook and resource links for more details"
   ]
  },
  {
   "cell_type": "markdown",
   "metadata": {},
   "source": [
    "- As previously mentioned, it can be very difficult to read these plots, so it is often more effective to perform a grid search across various combinations of p, d, q values"
   ]
  },
  {
   "cell_type": "markdown",
   "metadata": {},
   "source": [
    "### Pyramid ARIMA\n",
    "- The pmdarima is a separate library designed to perform grid searches across multiple combinations of p, d, q and P, D, Q\n",
    "- This is by far the most effective way to get good fitting models\n",
    "- The pmdarima library utilizes the Akaike information criterion (AIC) as a metric to compare the performance of verious ARIMA based models"
   ]
  },
  {
   "cell_type": "code",
   "execution_count": 1,
   "metadata": {},
   "outputs": [],
   "source": [
    "import pandas as pd\n",
    "import numpy as np\n",
    "%matplotlib inline\n",
    "\n",
    "import warnings\n",
    "warnings.filterwarnings(\"ignore\")\n",
    "\n",
    "# Load a seasonal dataset\n",
    "df1 = pd.read_csv(r\"C:\\Users\\olive\\Documents\\GitHub\\Time-Series-Data-Analysis\\TSA_COURSE_NOTEBOOKS\\Data\\airline_passengers.csv\",\n",
    "                 index_col='Month', parse_dates=True)\n",
    "df1.index.freq = 'MS'\n",
    "\n",
    "df2 = pd.read_csv(r\"C:\\Users\\olive\\Documents\\GitHub\\Time-Series-Data-Analysis\\TSA_COURSE_NOTEBOOKS\\Data\\DailyTotalFemaleBirths.csv\",\n",
    "                 index_col='Date', parse_dates=True)\n",
    "df2.index.freq = 'D'"
   ]
  },
  {
   "cell_type": "code",
   "execution_count": 2,
   "metadata": {},
   "outputs": [],
   "source": [
    "from pmdarima import auto_arima"
   ]
  },
  {
   "cell_type": "code",
   "execution_count": 4,
   "metadata": {
    "scrolled": true
   },
   "outputs": [],
   "source": [
    "# help(auto_arima)"
   ]
  },
  {
   "cell_type": "code",
   "execution_count": 11,
   "metadata": {},
   "outputs": [
    {
     "name": "stdout",
     "output_type": "stream",
     "text": [
      "Fit ARIMA: order=(0, 1, 0) seasonal_order=(0, 0, 0, 0); AIC=2650.760, BIC=2658.555, Fit time=0.013 seconds\n",
      "Fit ARIMA: order=(1, 1, 0) seasonal_order=(0, 0, 0, 0); AIC=2565.234, BIC=2576.925, Fit time=0.036 seconds\n",
      "Fit ARIMA: order=(0, 1, 1) seasonal_order=(0, 0, 0, 0); AIC=2463.584, BIC=2475.275, Fit time=0.063 seconds\n",
      "Fit ARIMA: order=(0, 1, 0) seasonal_order=(0, 0, 0, 0); AIC=2648.768, BIC=2652.665, Fit time=0.007 seconds\n",
      "Fit ARIMA: order=(1, 1, 1) seasonal_order=(0, 0, 0, 0); AIC=2460.154, BIC=2475.743, Fit time=0.131 seconds\n",
      "Fit ARIMA: order=(2, 1, 1) seasonal_order=(0, 0, 0, 0); AIC=2461.271, BIC=2480.757, Fit time=0.171 seconds\n"
     ]
    },
    {
     "name": "stderr",
     "output_type": "stream",
     "text": [
      "C:\\Users\\olive\\AppData\\Local\\Continuum\\anaconda3\\envs\\deeplearning\\lib\\site-packages\\statsmodels\\base\\model.py:512: ConvergenceWarning: Maximum Likelihood optimization failed to converge. Check mle_retvals\n",
      "  \"Check mle_retvals\", ConvergenceWarning)\n"
     ]
    },
    {
     "name": "stdout",
     "output_type": "stream",
     "text": [
      "Fit ARIMA: order=(1, 1, 2) seasonal_order=(0, 0, 0, 0); AIC=2460.644, BIC=2480.130, Fit time=0.369 seconds\n",
      "Near non-invertible roots for order (1, 1, 2)(0, 0, 0, 0); setting score to inf (at least one inverse root too close to the border of the unit circle: 0.997)\n",
      "Fit ARIMA: order=(0, 1, 2) seasonal_order=(0, 0, 0, 0); AIC=2460.722, BIC=2476.311, Fit time=0.150 seconds\n",
      "Fit ARIMA: order=(2, 1, 0) seasonal_order=(0, 0, 0, 0); AIC=2536.154, BIC=2551.742, Fit time=0.095 seconds\n",
      "Fit ARIMA: order=(2, 1, 2) seasonal_order=(0, 0, 0, 0); AIC=2463.030, BIC=2486.413, Fit time=0.498 seconds\n",
      "Total fit time: 1.538 seconds\n"
     ]
    },
    {
     "name": "stderr",
     "output_type": "stream",
     "text": [
      "C:\\Users\\olive\\AppData\\Local\\Continuum\\anaconda3\\envs\\deeplearning\\lib\\site-packages\\statsmodels\\base\\model.py:512: ConvergenceWarning: Maximum Likelihood optimization failed to converge. Check mle_retvals\n",
      "  \"Check mle_retvals\", ConvergenceWarning)\n"
     ]
    }
   ],
   "source": [
    "stepwise_fit = auto_arima(df2['Births'], start_p=0, start_q=0, max_p=6, max_q=3, seasonal=False, trace=True)"
   ]
  },
  {
   "cell_type": "markdown",
   "metadata": {},
   "source": [
    "You might expect AutoARIMA to produce 18 fits (6x3). However since AIC punishes more complex models it may not actually compute all 18. It might stop at a complex model & decide going further would be overkill (potentially overfit)"
   ]
  },
  {
   "cell_type": "code",
   "execution_count": 12,
   "metadata": {},
   "outputs": [
    {
     "data": {
      "text/html": [
       "<table class=\"simpletable\">\n",
       "<caption>Statespace Model Results</caption>\n",
       "<tr>\n",
       "  <th>Dep. Variable:</th>           <td>y</td>        <th>  No. Observations:  </th>    <td>365</td>   \n",
       "</tr>\n",
       "<tr>\n",
       "  <th>Model:</th>           <td>SARIMAX(1, 1, 1)</td> <th>  Log Likelihood     </th> <td>-1226.077</td>\n",
       "</tr>\n",
       "<tr>\n",
       "  <th>Date:</th>            <td>Thu, 02 Jan 2020</td> <th>  AIC                </th> <td>2460.154</td> \n",
       "</tr>\n",
       "<tr>\n",
       "  <th>Time:</th>                <td>13:57:14</td>     <th>  BIC                </th> <td>2475.743</td> \n",
       "</tr>\n",
       "<tr>\n",
       "  <th>Sample:</th>                  <td>0</td>        <th>  HQIC               </th> <td>2466.350</td> \n",
       "</tr>\n",
       "<tr>\n",
       "  <th></th>                      <td> - 365</td>      <th>                     </th>     <td> </td>    \n",
       "</tr>\n",
       "<tr>\n",
       "  <th>Covariance Type:</th>        <td>opg</td>       <th>                     </th>     <td> </td>    \n",
       "</tr>\n",
       "</table>\n",
       "<table class=\"simpletable\">\n",
       "<tr>\n",
       "      <td></td>         <th>coef</th>     <th>std err</th>      <th>z</th>      <th>P>|z|</th>  <th>[0.025</th>    <th>0.975]</th>  \n",
       "</tr>\n",
       "<tr>\n",
       "  <th>intercept</th> <td>    0.0132</td> <td>    0.014</td> <td>    0.975</td> <td> 0.330</td> <td>   -0.013</td> <td>    0.040</td>\n",
       "</tr>\n",
       "<tr>\n",
       "  <th>ar.L1</th>     <td>    0.1299</td> <td>    0.059</td> <td>    2.217</td> <td> 0.027</td> <td>    0.015</td> <td>    0.245</td>\n",
       "</tr>\n",
       "<tr>\n",
       "  <th>ma.L1</th>     <td>   -0.9694</td> <td>    0.016</td> <td>  -62.235</td> <td> 0.000</td> <td>   -1.000</td> <td>   -0.939</td>\n",
       "</tr>\n",
       "<tr>\n",
       "  <th>sigma2</th>    <td>   48.9989</td> <td>    3.432</td> <td>   14.279</td> <td> 0.000</td> <td>   42.273</td> <td>   55.725</td>\n",
       "</tr>\n",
       "</table>\n",
       "<table class=\"simpletable\">\n",
       "<tr>\n",
       "  <th>Ljung-Box (Q):</th>          <td>36.69</td> <th>  Jarque-Bera (JB):  </th> <td>26.17</td>\n",
       "</tr>\n",
       "<tr>\n",
       "  <th>Prob(Q):</th>                <td>0.62</td>  <th>  Prob(JB):          </th> <td>0.00</td> \n",
       "</tr>\n",
       "<tr>\n",
       "  <th>Heteroskedasticity (H):</th> <td>0.97</td>  <th>  Skew:              </th> <td>0.58</td> \n",
       "</tr>\n",
       "<tr>\n",
       "  <th>Prob(H) (two-sided):</th>    <td>0.85</td>  <th>  Kurtosis:          </th> <td>3.62</td> \n",
       "</tr>\n",
       "</table><br/><br/>Warnings:<br/>[1] Covariance matrix calculated using the outer product of gradients (complex-step)."
      ],
      "text/plain": [
       "<class 'statsmodels.iolib.summary.Summary'>\n",
       "\"\"\"\n",
       "                           Statespace Model Results                           \n",
       "==============================================================================\n",
       "Dep. Variable:                      y   No. Observations:                  365\n",
       "Model:               SARIMAX(1, 1, 1)   Log Likelihood               -1226.077\n",
       "Date:                Thu, 02 Jan 2020   AIC                           2460.154\n",
       "Time:                        13:57:14   BIC                           2475.743\n",
       "Sample:                             0   HQIC                          2466.350\n",
       "                                - 365                                         \n",
       "Covariance Type:                  opg                                         \n",
       "==============================================================================\n",
       "                 coef    std err          z      P>|z|      [0.025      0.975]\n",
       "------------------------------------------------------------------------------\n",
       "intercept      0.0132      0.014      0.975      0.330      -0.013       0.040\n",
       "ar.L1          0.1299      0.059      2.217      0.027       0.015       0.245\n",
       "ma.L1         -0.9694      0.016    -62.235      0.000      -1.000      -0.939\n",
       "sigma2        48.9989      3.432     14.279      0.000      42.273      55.725\n",
       "===================================================================================\n",
       "Ljung-Box (Q):                       36.69   Jarque-Bera (JB):                26.17\n",
       "Prob(Q):                              0.62   Prob(JB):                         0.00\n",
       "Heteroskedasticity (H):               0.97   Skew:                             0.58\n",
       "Prob(H) (two-sided):                  0.85   Kurtosis:                         3.62\n",
       "===================================================================================\n",
       "\n",
       "Warnings:\n",
       "[1] Covariance matrix calculated using the outer product of gradients (complex-step).\n",
       "\"\"\""
      ]
     },
     "execution_count": 12,
     "metadata": {},
     "output_type": "execute_result"
    }
   ],
   "source": [
    "stepwise_fit.summary()"
   ]
  },
  {
   "cell_type": "code",
   "execution_count": 15,
   "metadata": {},
   "outputs": [
    {
     "name": "stdout",
     "output_type": "stream",
     "text": [
      "Fit ARIMA: order=(0, 1, 0) seasonal_order=(1, 1, 1, 12); AIC=1034.075, BIC=1045.576, Fit time=0.369 seconds\n",
      "Fit ARIMA: order=(0, 1, 0) seasonal_order=(0, 1, 0, 12); AIC=1033.479, BIC=1039.229, Fit time=0.012 seconds\n",
      "Fit ARIMA: order=(1, 1, 0) seasonal_order=(1, 1, 0, 12); AIC=1022.316, BIC=1033.817, Fit time=0.244 seconds\n",
      "Fit ARIMA: order=(0, 1, 1) seasonal_order=(0, 1, 1, 12); AIC=1022.904, BIC=1034.405, Fit time=0.347 seconds\n",
      "Fit ARIMA: order=(0, 1, 0) seasonal_order=(0, 1, 0, 12); AIC=1031.508, BIC=1034.383, Fit time=0.012 seconds\n",
      "Fit ARIMA: order=(1, 1, 0) seasonal_order=(0, 1, 0, 12); AIC=1022.343, BIC=1030.968, Fit time=0.104 seconds\n",
      "Fit ARIMA: order=(1, 1, 0) seasonal_order=(2, 1, 0, 12); AIC=1021.137, BIC=1035.513, Fit time=0.896 seconds\n",
      "Fit ARIMA: order=(1, 1, 0) seasonal_order=(2, 1, 1, 12); AIC=1017.165, BIC=1034.416, Fit time=3.539 seconds\n",
      "Near non-invertible roots for order (1, 1, 0)(2, 1, 1, 12); setting score to inf (at least one inverse root too close to the border of the unit circle: 0.998)\n",
      "Fit ARIMA: order=(1, 1, 0) seasonal_order=(1, 1, 1, 12); AIC=1022.410, BIC=1036.786, Fit time=0.535 seconds\n",
      "Fit ARIMA: order=(0, 1, 0) seasonal_order=(2, 1, 0, 12); AIC=1034.067, BIC=1045.568, Fit time=0.605 seconds\n",
      "Fit ARIMA: order=(2, 1, 0) seasonal_order=(2, 1, 0, 12); AIC=1023.007, BIC=1040.258, Fit time=1.191 seconds\n",
      "Fit ARIMA: order=(1, 1, 1) seasonal_order=(2, 1, 0, 12); AIC=1022.905, BIC=1040.156, Fit time=1.095 seconds\n",
      "Fit ARIMA: order=(0, 1, 1) seasonal_order=(2, 1, 0, 12); AIC=1021.017, BIC=1035.393, Fit time=0.638 seconds\n",
      "Fit ARIMA: order=(1, 1, 2) seasonal_order=(2, 1, 0, 12); AIC=1024.668, BIC=1044.795, Fit time=1.851 seconds\n",
      "Fit ARIMA: order=(0, 1, 1) seasonal_order=(1, 1, 0, 12); AIC=1022.314, BIC=1033.815, Fit time=0.208 seconds\n"
     ]
    },
    {
     "name": "stderr",
     "output_type": "stream",
     "text": [
      "C:\\Users\\olive\\AppData\\Local\\Continuum\\anaconda3\\envs\\deeplearning\\lib\\site-packages\\statsmodels\\base\\model.py:512: ConvergenceWarning: Maximum Likelihood optimization failed to converge. Check mle_retvals\n",
      "  \"Check mle_retvals\", ConvergenceWarning)\n"
     ]
    },
    {
     "name": "stdout",
     "output_type": "stream",
     "text": [
      "Fit ARIMA: order=(0, 1, 1) seasonal_order=(2, 1, 1, 12); AIC=1015.841, BIC=1033.092, Fit time=2.841 seconds\n",
      "Near non-invertible roots for order (0, 1, 1)(2, 1, 1, 12); setting score to inf (at least one inverse root too close to the border of the unit circle: 0.998)\n",
      "Fit ARIMA: order=(0, 1, 1) seasonal_order=(1, 1, 1, 12); AIC=1022.207, BIC=1036.583, Fit time=0.732 seconds\n",
      "Fit ARIMA: order=(0, 1, 2) seasonal_order=(2, 1, 0, 12); AIC=1022.996, BIC=1040.247, Fit time=0.942 seconds\n",
      "Total fit time: 16.195 seconds\n"
     ]
    }
   ],
   "source": [
    "# 'm' is the number of periods in each season\n",
    "stepwise_fit2 = auto_arima(df1['Thousands of Passengers'], start_p=0, start_q=0, max_p=4, max_q=4,\n",
    "                         seasonal=True, trace=True, m=12)"
   ]
  },
  {
   "cell_type": "code",
   "execution_count": 16,
   "metadata": {},
   "outputs": [
    {
     "data": {
      "text/html": [
       "<table class=\"simpletable\">\n",
       "<caption>Statespace Model Results</caption>\n",
       "<tr>\n",
       "  <th>Dep. Variable:</th>                  <td>y</td>               <th>  No. Observations:  </th>    <td>144</td>  \n",
       "</tr>\n",
       "<tr>\n",
       "  <th>Model:</th>           <td>SARIMAX(0, 1, 1)x(2, 1, 1, 12)</td> <th>  Log Likelihood     </th> <td>-501.920</td>\n",
       "</tr>\n",
       "<tr>\n",
       "  <th>Date:</th>                   <td>Thu, 02 Jan 2020</td>        <th>  AIC                </th> <td>1015.841</td>\n",
       "</tr>\n",
       "<tr>\n",
       "  <th>Time:</th>                       <td>13:58:44</td>            <th>  BIC                </th> <td>1033.092</td>\n",
       "</tr>\n",
       "<tr>\n",
       "  <th>Sample:</th>                         <td>0</td>               <th>  HQIC               </th> <td>1022.851</td>\n",
       "</tr>\n",
       "<tr>\n",
       "  <th></th>                             <td> - 144</td>             <th>                     </th>     <td> </td>   \n",
       "</tr>\n",
       "<tr>\n",
       "  <th>Covariance Type:</th>               <td>opg</td>              <th>                     </th>     <td> </td>   \n",
       "</tr>\n",
       "</table>\n",
       "<table class=\"simpletable\">\n",
       "<tr>\n",
       "      <td></td>         <th>coef</th>     <th>std err</th>      <th>z</th>      <th>P>|z|</th>  <th>[0.025</th>    <th>0.975]</th>  \n",
       "</tr>\n",
       "<tr>\n",
       "  <th>intercept</th> <td>    0.0003</td> <td>    0.032</td> <td>    0.010</td> <td> 0.992</td> <td>   -0.063</td> <td>    0.064</td>\n",
       "</tr>\n",
       "<tr>\n",
       "  <th>ma.L1</th>     <td>   -0.4253</td> <td>    0.068</td> <td>   -6.229</td> <td> 0.000</td> <td>   -0.559</td> <td>   -0.291</td>\n",
       "</tr>\n",
       "<tr>\n",
       "  <th>ar.S.L12</th>  <td>    0.6670</td> <td>    0.160</td> <td>    4.163</td> <td> 0.000</td> <td>    0.353</td> <td>    0.981</td>\n",
       "</tr>\n",
       "<tr>\n",
       "  <th>ar.S.L24</th>  <td>    0.3315</td> <td>    0.095</td> <td>    3.475</td> <td> 0.001</td> <td>    0.145</td> <td>    0.518</td>\n",
       "</tr>\n",
       "<tr>\n",
       "  <th>ma.S.L12</th>  <td>   -0.9746</td> <td>    1.247</td> <td>   -0.781</td> <td> 0.435</td> <td>   -3.420</td> <td>    1.470</td>\n",
       "</tr>\n",
       "<tr>\n",
       "  <th>sigma2</th>    <td>  110.6448</td> <td>  115.074</td> <td>    0.962</td> <td> 0.336</td> <td> -114.897</td> <td>  336.186</td>\n",
       "</tr>\n",
       "</table>\n",
       "<table class=\"simpletable\">\n",
       "<tr>\n",
       "  <th>Ljung-Box (Q):</th>          <td>53.03</td> <th>  Jarque-Bera (JB):  </th> <td>7.47</td>\n",
       "</tr>\n",
       "<tr>\n",
       "  <th>Prob(Q):</th>                <td>0.08</td>  <th>  Prob(JB):          </th> <td>0.02</td>\n",
       "</tr>\n",
       "<tr>\n",
       "  <th>Heteroskedasticity (H):</th> <td>2.82</td>  <th>  Skew:              </th> <td>0.10</td>\n",
       "</tr>\n",
       "<tr>\n",
       "  <th>Prob(H) (two-sided):</th>    <td>0.00</td>  <th>  Kurtosis:          </th> <td>4.15</td>\n",
       "</tr>\n",
       "</table><br/><br/>Warnings:<br/>[1] Covariance matrix calculated using the outer product of gradients (complex-step)."
      ],
      "text/plain": [
       "<class 'statsmodels.iolib.summary.Summary'>\n",
       "\"\"\"\n",
       "                                 Statespace Model Results                                 \n",
       "==========================================================================================\n",
       "Dep. Variable:                                  y   No. Observations:                  144\n",
       "Model:             SARIMAX(0, 1, 1)x(2, 1, 1, 12)   Log Likelihood                -501.920\n",
       "Date:                            Thu, 02 Jan 2020   AIC                           1015.841\n",
       "Time:                                    13:58:44   BIC                           1033.092\n",
       "Sample:                                         0   HQIC                          1022.851\n",
       "                                            - 144                                         \n",
       "Covariance Type:                              opg                                         \n",
       "==============================================================================\n",
       "                 coef    std err          z      P>|z|      [0.025      0.975]\n",
       "------------------------------------------------------------------------------\n",
       "intercept      0.0003      0.032      0.010      0.992      -0.063       0.064\n",
       "ma.L1         -0.4253      0.068     -6.229      0.000      -0.559      -0.291\n",
       "ar.S.L12       0.6670      0.160      4.163      0.000       0.353       0.981\n",
       "ar.S.L24       0.3315      0.095      3.475      0.001       0.145       0.518\n",
       "ma.S.L12      -0.9746      1.247     -0.781      0.435      -3.420       1.470\n",
       "sigma2       110.6448    115.074      0.962      0.336    -114.897     336.186\n",
       "===================================================================================\n",
       "Ljung-Box (Q):                       53.03   Jarque-Bera (JB):                 7.47\n",
       "Prob(Q):                              0.08   Prob(JB):                         0.02\n",
       "Heteroskedasticity (H):               2.82   Skew:                             0.10\n",
       "Prob(H) (two-sided):                  0.00   Kurtosis:                         4.15\n",
       "===================================================================================\n",
       "\n",
       "Warnings:\n",
       "[1] Covariance matrix calculated using the outer product of gradients (complex-step).\n",
       "\"\"\""
      ]
     },
     "execution_count": 16,
     "metadata": {},
     "output_type": "execute_result"
    }
   ],
   "source": [
    "stepwise_fit2.summary()"
   ]
  }
 ],
 "metadata": {
  "kernelspec": {
   "display_name": "Python 3",
   "language": "python",
   "name": "python3"
  },
  "language_info": {
   "codemirror_mode": {
    "name": "ipython",
    "version": 3
   },
   "file_extension": ".py",
   "mimetype": "text/x-python",
   "name": "python",
   "nbconvert_exporter": "python",
   "pygments_lexer": "ipython3",
   "version": "3.7.2"
  }
 },
 "nbformat": 4,
 "nbformat_minor": 2
}
