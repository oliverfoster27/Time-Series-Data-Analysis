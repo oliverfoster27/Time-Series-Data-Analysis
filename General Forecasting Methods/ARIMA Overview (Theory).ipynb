{
 "cells": [
  {
   "cell_type": "markdown",
   "metadata": {},
   "source": [
    "### ARIMA\n",
    "- (1) AutoRegressive (2) Integrated (3) Moving Average\n",
    "- ARIMA performs very well when working with timeseries data where the data is directly related to the time stamp\n",
    "- ARIMA however wouldn't be able to understand outside factors beyond the information in the timeseries data"
   ]
  },
  {
   "cell_type": "markdown",
   "metadata": {},
   "source": [
    "- AutoRegressive Integrated Moving Average (ARIMA) model is a generalization of an autoregressie moving average model (ARMA)\n",
    "- Both models (ARIMA and ARMA) are fitted to time series data either to better understand the data or to predict future points in the series (forecasting)"
   ]
  },
  {
   "cell_type": "markdown",
   "metadata": {},
   "source": [
    "- ARIMA\n",
    "    - Non-seasonal ARIMA\n",
    "    - Seasonal ARIMA (SARIMA)\n",
    "- Also understanding SARIMA with exogeneous variables such as SARIMAX"
   ]
  },
  {
   "cell_type": "markdown",
   "metadata": {},
   "source": [
    "### Application\n",
    "- ARIMA models are applied in some cases where data show evidence of non-stationarity, where an initial differencing step (corresponding to the \"integrated\" part of the model) can be applied one or more times to eliminate the non-stationarity\n",
    "- Non-seasonal ARIMA models are generally denoted ARIMA(p,d,q) where parameters p, d, q are non-negative integers"
   ]
  },
  {
   "cell_type": "markdown",
   "metadata": {},
   "source": [
    "### Parts of the ARIMA Model\n",
    "- AR (p): Autoregression\n",
    "    - A regression model that utilizes the dependent relationship between a current observation and observations over a previous period\n",
    "- I (d): Integrated\n",
    "    - Differencing of observations (substracting an observation from an observation at the previous time step) in order to make the time series stationary\n",
    "- MA (q): Moving Average\n",
    "    - A model that uses the dependency between an observation and a residual error from a moving average model applied to lagged observations"
   ]
  },
  {
   "cell_type": "markdown",
   "metadata": {},
   "source": [
    "### Stationarity vs Non-Stationary Data\n",
    "- To effectively use ARIMA, we need to understand stationarity in our data\n",
    "- So what makes a dataset stationary?\n",
    "    - A stationary series has constant mean and variance over time\n",
    "- A stationary data set will allow our model to predict that the mean and veriance will be the same in future periods\n",
    "- There are also mathematical tests you can use to test for stationarity in your data\n",
    "- A common one is the Augmented Dickey-Fuller test (we will see how to use this with python's statsmodels)"
   ]
  },
  {
   "cell_type": "markdown",
   "metadata": {},
   "source": [
    "- If you've determined your data is not stationary (visually or mathematically), you will then need to transform it to be stationary in order to evaluate it and what type of ARIMA terms you will use\n",
    "- One simple way to do this is through \"differencing\"\n",
    "    - You can continue differencing until you reach stationarity (which you can check visually and mathematically)\n",
    "    - Each differencing step comes at the cost of losing a row of data"
   ]
  },
  {
   "cell_type": "markdown",
   "metadata": {},
   "source": [
    "- For seasonal data you can also difference by season\n",
    "- For example: if you had monthly data with yearly seasonality you could difference by a time unit of 12 instead of just 1"
   ]
  },
  {
   "cell_type": "markdown",
   "metadata": {},
   "source": [
    "- Another common technique with seasonal ARIMA models is to combine both methods, taking the seasonal difference of the first difference"
   ]
  },
  {
   "cell_type": "markdown",
   "metadata": {},
   "source": [
    "### Picking p, d, q"
   ]
  },
  {
   "cell_type": "markdown",
   "metadata": {},
   "source": [
    "#### Method 1 (Difficult):\n",
    "- AutoCorrelation plots and Partial AutoCorrelation Plots\n",
    "- Using these plots we can choose p, q, and d terms based on viewing the decay of the plot\n",
    "- These plots can be very difficult to read, and often even when reading them correctly, the best performing pdq may be different than what is read"
   ]
  },
  {
   "cell_type": "markdown",
   "metadata": {},
   "source": [
    "#### Method 2 (Easy but takes time):\n",
    "- GridSearch\n",
    "- Run ARIMA based models on different combinations of pdq and compare the models on some evaluation metric\n",
    "- Due to computational power becoming cheaper and faster, its often a good idea to use the built-in automated tools that search for the correct p, d, q terms for us"
   ]
  },
  {
   "cell_type": "markdown",
   "metadata": {},
   "source": [
    "- Later on we will discuss SARIMA models designed to handle seasonal data. It has another set of parameters (PDQ)\n",
    "- We can begin by focusing on a special case of ARIMA, where the I and MA components are zero, leaving us with a simplified AR model"
   ]
  },
  {
   "cell_type": "code",
   "execution_count": null,
   "metadata": {},
   "outputs": [],
   "source": []
  }
 ],
 "metadata": {
  "kernelspec": {
   "display_name": "Python 3",
   "language": "python",
   "name": "python3"
  },
  "language_info": {
   "codemirror_mode": {
    "name": "ipython",
    "version": 3
   },
   "file_extension": ".py",
   "mimetype": "text/x-python",
   "name": "python",
   "nbconvert_exporter": "python",
   "pygments_lexer": "ipython3",
   "version": "3.7.2"
  }
 },
 "nbformat": 4,
 "nbformat_minor": 2
}
